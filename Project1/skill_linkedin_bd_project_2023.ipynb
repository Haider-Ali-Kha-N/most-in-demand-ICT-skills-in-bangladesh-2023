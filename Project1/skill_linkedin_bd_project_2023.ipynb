{
 "cells": [
  {
   "cell_type": "markdown",
   "id": "f3ffbaac",
   "metadata": {},
   "source": [
    "Assalamu Alaikum,(May Peace and Blessings be upon you)\n",
    "\n",
    "This is a one-day project where I collected and analyzed 1,344 job descriptions available in Bangladesh from LinkedIn and BDjobs. The purpose of this project was to showcase the most in-demand programming languages, web frameworks, app frameworks, and cloud and database skills that employers are seeking. The data was collected using the Selenium package and Python, analyzed using Pandas and visualized using Matplotlib, & Google spreadsheets\n",
    "\n",
    "Haider Ali Khan\n",
    "Computer Science and Engineering(2nd year)\n",
    "BRAC University\n",
    "Dhaka,Banglades."
   ]
  },
  {
   "cell_type": "code",
   "execution_count": null,
   "id": "7392436a",
   "metadata": {},
   "outputs": [],
   "source": [
    "import pandas as pd"
   ]
  },
  {
   "cell_type": "code",
   "execution_count": 2,
   "id": "1ce74334",
   "metadata": {},
   "outputs": [
    {
     "name": "stdout",
     "output_type": "stream",
     "text": [
      "<class 'pandas.core.frame.DataFrame'>\n",
      "RangeIndex: 1000 entries, 0 to 999\n",
      "Data columns (total 5 columns):\n",
      " #   Column            Non-Null Count  Dtype \n",
      "---  ------            --------------  ----- \n",
      " 0   Unnamed: 0        1000 non-null   int64 \n",
      " 1   job_title         1000 non-null   object\n",
      " 2   name_location     1000 non-null   object\n",
      " 3   experience_level  1000 non-null   object\n",
      " 4   job_description   1000 non-null   object\n",
      "dtypes: int64(1), object(4)\n",
      "memory usage: 39.2+ KB\n"
     ]
    }
   ],
   "source": [
    "df1=pd.read_csv(\"C:\\\\Users\\\\haider\\\\Desktop\\\\Desktop\\\\linkedin_Job_description2_Bangladesh_project.csv\")\n",
    "df1.info()"
   ]
  },
  {
   "cell_type": "code",
   "execution_count": 3,
   "id": "c3aafaac",
   "metadata": {},
   "outputs": [
    {
     "name": "stdout",
     "output_type": "stream",
     "text": [
      "<class 'pandas.core.frame.DataFrame'>\n",
      "RangeIndex: 1000 entries, 0 to 999\n",
      "Data columns (total 5 columns):\n",
      " #   Column            Non-Null Count  Dtype \n",
      "---  ------            --------------  ----- \n",
      " 0   Unnamed: 0        1000 non-null   int64 \n",
      " 1   job_title         1000 non-null   object\n",
      " 2   name_location     1000 non-null   object\n",
      " 3   experience_level  1000 non-null   object\n",
      " 4   job_description   1000 non-null   object\n",
      "dtypes: int64(1), object(4)\n",
      "memory usage: 39.2+ KB\n"
     ]
    }
   ],
   "source": [
    "df2=pd.read_csv(\"bdjobs_IT.csv\")\n",
    "df1.info()"
   ]
  },
  {
   "cell_type": "code",
   "execution_count": 4,
   "id": "85eda64b",
   "metadata": {
    "scrolled": true
   },
   "outputs": [],
   "source": [
    "#combining columns for aggragation with another dataset\n",
    "df2['job_title']=df2['title']\n",
    "df2['name_location']=df2['company']+df2['location']+df2['comp_details']\n",
    "df2['experience_level']=df2['job_info1']+df2['vacancy']+df2['emp_status']+df2['salary']+df2['other_bnf']\n",
    "df2['job_description']=df2['job_context']+df2['job_res']+df2['edu_req']+df2['exp_req']+df2['add_req']"
   ]
  },
  {
   "cell_type": "code",
   "execution_count": 6,
   "id": "f19b6f4a",
   "metadata": {},
   "outputs": [],
   "source": [
    "#dropping previous columns\n",
    "df2=df2.drop(columns=['title', 'company','location','comp_details','job_info1','vacancy','emp_status','salary','other_bnf','job_context','job_res','edu_req','exp_req','add_req','job_links'])"
   ]
  },
  {
   "cell_type": "code",
   "execution_count": 7,
   "id": "94bcf60a",
   "metadata": {},
   "outputs": [
    {
     "name": "stdout",
     "output_type": "stream",
     "text": [
      "<class 'pandas.core.frame.DataFrame'>\n",
      "RangeIndex: 589 entries, 0 to 588\n",
      "Data columns (total 5 columns):\n",
      " #   Column            Non-Null Count  Dtype \n",
      "---  ------            --------------  ----- \n",
      " 0   Unnamed: 0        589 non-null    int64 \n",
      " 1   job_title         573 non-null    object\n",
      " 2   name_location     571 non-null    object\n",
      " 3   experience_level  0 non-null      object\n",
      " 4   job_description   344 non-null    object\n",
      "dtypes: int64(1), object(4)\n",
      "memory usage: 23.1+ KB\n"
     ]
    }
   ],
   "source": [
    "df2.info()"
   ]
  },
  {
   "cell_type": "code",
   "execution_count": 8,
   "id": "fcfd2c66",
   "metadata": {},
   "outputs": [
    {
     "name": "stdout",
     "output_type": "stream",
     "text": [
      "<class 'pandas.core.frame.DataFrame'>\n",
      "Int64Index: 1589 entries, 0 to 588\n",
      "Data columns (total 5 columns):\n",
      " #   Column            Non-Null Count  Dtype \n",
      "---  ------            --------------  ----- \n",
      " 0   Unnamed: 0        1589 non-null   int64 \n",
      " 1   job_title         1573 non-null   object\n",
      " 2   name_location     1571 non-null   object\n",
      " 3   experience_level  1000 non-null   object\n",
      " 4   job_description   1344 non-null   object\n",
      "dtypes: int64(1), object(4)\n",
      "memory usage: 74.5+ KB\n"
     ]
    }
   ],
   "source": [
    "#joining two datasets\n",
    "df = pd.concat([df1, df2], axis=0)\n",
    "df.info()"
   ]
  },
  {
   "cell_type": "code",
   "execution_count": 9,
   "id": "b3fb140e",
   "metadata": {},
   "outputs": [],
   "source": [
    "#dropping null records\n",
    "df = df.dropna(subset=['job_description'])"
   ]
  },
  {
   "cell_type": "code",
   "execution_count": 10,
   "id": "7bc02fdb",
   "metadata": {},
   "outputs": [
    {
     "name": "stdout",
     "output_type": "stream",
     "text": [
      "<class 'pandas.core.frame.DataFrame'>\n",
      "Int64Index: 1344 entries, 0 to 572\n",
      "Data columns (total 5 columns):\n",
      " #   Column            Non-Null Count  Dtype \n",
      "---  ------            --------------  ----- \n",
      " 0   Unnamed: 0        1344 non-null   int64 \n",
      " 1   job_title         1344 non-null   object\n",
      " 2   name_location     1344 non-null   object\n",
      " 3   experience_level  1000 non-null   object\n",
      " 4   job_description   1344 non-null   object\n",
      "dtypes: int64(1), object(4)\n",
      "memory usage: 63.0+ KB\n"
     ]
    }
   ],
   "source": [
    "df.info()"
   ]
  },
  {
   "cell_type": "code",
   "execution_count": 24,
   "id": "98206f47",
   "metadata": {},
   "outputs": [],
   "source": [
    "#exporting the dataset for future use\n",
    "df.to_csv(\"combined_&_cleaned_2023_jobsInBD.csv\")"
   ]
  },
  {
   "cell_type": "code",
   "execution_count": 13,
   "id": "508d03e8",
   "metadata": {},
   "outputs": [],
   "source": [
    "#creating list of common programming languages\n",
    "p_lang_list=[\"JavaScript\",\"Java\",\"Python\",'TypeScript','Swift','PHP','C\\+\\+','Kotlin','Rust','Scala','Perl','Dart','HTML','Matlab','Ruby','SQL','CSS','NoSQL','C#']\n",
    "count_p_lang_list=[]\n",
    "#looping through the list and count the number of jobs where the skill havebeen asked\n",
    "for p_lang in p_lang_list:\n",
    "    count1 = df[df['job_description'].str.contains(p_lang, na=False)].shape[0]\n",
    "    count2=df[df['job_description'].str.contains(p_lang.lower(), na=False)].shape[0]\n",
    "    count=count1+count2\n",
    "    count_p_lang_list.append(count)\n",
    "df_p_lang_list=pd.DataFrame({'p_lang_list':p_lang_list,'count_p_lang_list':count_p_lang_list})\n",
    "\n",
    "#exporting the calculated dataset\n",
    "df_p_lang_list.to_csv(\"df_p_lang_list.csv\")"
   ]
  },
  {
   "cell_type": "code",
   "execution_count": 14,
   "id": "1fca123e",
   "metadata": {},
   "outputs": [],
   "source": [
    "web_frameworks=['Ruby on Rails','React','Django','Laravel','Spring Framework','AngularJS','Bootstrap','Angular','jQuery','Flask','CakePHP','Symfony','CodeIgniter','Yii','Zend','Javascript','ASP.NET','.NET Core']\n",
    "count_web_frameworks=[]\n",
    "for wfm in web_frameworks:\n",
    "    count1 = df[df['job_description'].str.contains(wfm, na=False)].shape[0]\n",
    "    count2=df[df['job_description'].str.contains(wfm.lower(), na=False)].shape[0]\n",
    "    count=count1+count2\n",
    "    count_web_frameworks.append(count)\n",
    "df_web_frameworks=pd.DataFrame({'web_frameworks':web_frameworks,'count_web_frameworks':count_web_frameworks})\n",
    "df_web_frameworks.to_csv(\"df_web_frameworks.csv\")"
   ]
  },
  {
   "cell_type": "code",
   "execution_count": 15,
   "id": "89209ad2",
   "metadata": {},
   "outputs": [],
   "source": [
    "app_frameworks=['Flutter','React Native','Xamarin','Apache Cordova','Ionic','NativeScript','Framework7','CoronaSDK','Appcelerator Titanium']\n",
    "count_app_frameworks=[]\n",
    "for afm in app_frameworks:\n",
    "    count1 = df[df['job_description'].str.contains(afm, na=False)].shape[0]\n",
    "    count2=df[df['job_description'].str.contains(afm.lower(), na=False)].shape[0]\n",
    "    count=count1+count2\n",
    "    count_app_frameworks.append(count)\n",
    "df_app_frameworks=pd.DataFrame({'app_frameworks':app_frameworks,'count_app_frameworks':count_app_frameworks})\n",
    "df_app_frameworks.to_csv(\"df_app_frameworks.csv\")"
   ]
  },
  {
   "cell_type": "code",
   "execution_count": 32,
   "id": "7416b932",
   "metadata": {},
   "outputs": [],
   "source": [
    "other_tools=['Powerpoint','Microsoft Office','Photoshop','Google Sheets','MySQL','PostgreSQL','Oracle Database','AWS','GCP','Microsoft Azure']\n",
    "#'Excel'\n",
    "count_other_tools=[]\n",
    "for tl in other_tools:\n",
    "    count1 = df[df['job_description'].str.contains(tl, na=False)].shape[0]\n",
    "    count_other_tools.append(count1)\n",
    "    \n",
    "df_other_tools=pd.DataFrame({'other_tools':other_tools,'count_other_tools':count_other_tools})\n",
    "df_other_tools.to_csv(\"df_other_tools.csv\")\n"
   ]
  },
  {
   "cell_type": "code",
   "execution_count": 31,
   "id": "4809cc4d",
   "metadata": {},
   "outputs": [
    {
     "data": {
      "image/png": "[encoded data removed]",
      "text/plain": [
       "<Figure size 432x288 with 1 Axes>"
      ]
     },
     "metadata": {
      "needs_background": "light"
     },
     "output_type": "display_data"
    },
    {
     "data": {
      "image/png": "[encoded data removed]",
      "text/plain": [
       "<Figure size 432x288 with 1 Axes>"
      ]
     },
     "metadata": {
      "needs_background": "light"
     },
     "output_type": "display_data"
    },
    {
     "data": {
      "image/png": "[encoded data removed]",
      "text/plain": [
       "<Figure size 432x288 with 1 Axes>"
      ]
     },
     "metadata": {
      "needs_background": "light"
     },
     "output_type": "display_data"
    },
    {
     "data": {
      "image/png": "[encoded data removed]",
      "text/plain": [
       "<Figure size 432x288 with 1 Axes>"
      ]
     },
     "metadata": {
      "needs_background": "light"
     },
     "output_type": "display_data"
    }
   ],
   "source": [
    "import matplotlib.pyplot as plt\n",
    "\n",
    "#visualizing\n",
    "\n",
    "plt.bar(df_p_lang_list['p_lang_list'], df_p_lang_list['count_p_lang_list'])\n",
    "\n",
    "# Add labels to the x and y axis\n",
    "plt.xlabel('Most Demanding Languages in BD')\n",
    "plt.ylabel('Count')\n",
    "plt.xticks(rotation=90)\n",
    "# Show the plot\n",
    "plt.show()\n",
    "\n",
    "plt.bar(df_web_frameworks['web_frameworks'], df_web_frameworks['count_web_frameworks'])\n",
    "\n",
    "# Add labels to the x and y axis\n",
    "plt.xlabel('Most Demanding Web Frameworks in BD')\n",
    "plt.ylabel('Count')\n",
    "plt.xticks(rotation=90)\n",
    "# Show the plot\n",
    "plt.show()\n",
    "\n",
    "plt.bar(df_app_frameworks['app_frameworks'], df_app_frameworks['count_app_frameworks'])\n",
    "\n",
    "# Add labels to the x and y axis\n",
    "plt.xlabel('Most Demanding App Frameworks in BD')\n",
    "plt.ylabel('Count')\n",
    "plt.xticks(rotation=90)\n",
    "# Show the plot\n",
    "plt.show()\n",
    "\n",
    "# Create the bar plot\n",
    "plt.bar(df_other_tools['other_tools'], df_other_tools['count_other_tools'])\n",
    "\n",
    "# Add labels to the x and y axis\n",
    "plt.xlabel('Most Demanding Cloud_Database_&_other in BD')\n",
    "plt.ylabel('Count')\n",
    "plt.xticks(rotation=90)\n",
    "# Show the plot\n",
    "plt.show()"
   ]
  },
  {
   "cell_type": "code",
   "execution_count": null,
   "id": "27f5b5b5",
   "metadata": {},
   "outputs": [],
   "source": []
  }
 ],
 "metadata": {
  "kernelspec": {
   "display_name": "Python 3 (ipykernel)",
   "language": "python",
   "name": "python3"
  },
  "language_info": {
   "codemirror_mode": {
    "name": "ipython",
    "version": 3
   },
   "file_extension": ".py",
   "mimetype": "text/x-python",
   "name": "python",
   "nbconvert_exporter": "python",
   "pygments_lexer": "ipython3",
   "version": "3.9.7"
  }
 },
 "nbformat": 4,
 "nbformat_minor": 5
}
